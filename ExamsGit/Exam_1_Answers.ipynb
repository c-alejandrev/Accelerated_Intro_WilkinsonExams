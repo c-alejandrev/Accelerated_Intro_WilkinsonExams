{
 "cells": [
  {
   "cell_type": "code",
   "execution_count": null,
   "metadata": {},
   "outputs": [],
   "source": [
    "# Problems 1 and 11 I HAVE EXECUTE THE COMMANDS IN MY OWN TERMINAL, NOT IN JUPYTER"
   ]
  },
  {
   "cell_type": "code",
   "execution_count": 1,
   "metadata": {},
   "outputs": [
    {
     "name": "stdout",
     "output_type": "stream",
     "text": [
      "total 1.2M\n",
      "-rw-rw-r-- 1 osboxes osboxes  447 Sep  6 06:37 Exam_1_Answers.ipynb\n",
      "-rw-rw-r-- 1 osboxes osboxes 1.2M Sep  6 06:35 Locus_Germplasm_Phenotype_20130122.txt\n"
     ]
    }
   ],
   "source": [
    "# Problem 2\n",
    "dir -lh"
   ]
  },
  {
   "cell_type": "markdown",
   "metadata": {},
   "source": [
    "The permissions for user and groups are the same, the file has read and write permissioins, but it hasn't got execute permissions.For \"anyone\" the file only has read permissions."
   ]
  },
  {
   "cell_type": "code",
   "execution_count": 2,
   "metadata": {},
   "outputs": [
    {
     "name": "stdout",
     "output_type": "stream",
     "text": [
      "Locus_name)\tGermplasm_name\tphenotype\tpubmed_id\n"
     ]
    }
   ],
   "source": [
    "# Problem 3 Create a command that outputs only the \"header\" line of Locus_Germplasm_Phenotype_20130122.txt\n",
    "head -1 Locus_Germplasm_Phenotype_20130122.txt"
   ]
  },
  {
   "cell_type": "markdown",
   "metadata": {},
   "source": [
    "I have used the \"command\" head that shows the first 20 lines of a file, but I only want to see the first one, that is the header, so I added \"-1\" "
   ]
  },
  {
   "cell_type": "code",
   "execution_count": 4,
   "metadata": {},
   "outputs": [
    {
     "name": "stdout",
     "output_type": "stream",
     "text": [
      "7216 Locus_Germplasm_Phenotype_20130122.txt\n"
     ]
    }
   ],
   "source": [
    "# Problem 4 Create a command that outputs the total number of lines in Locus_Germplasm_Phenotype_20130122.txt\n",
    "wc -l Locus_Germplasm_Phenotype_20130122.txt"
   ]
  },
  {
   "cell_type": "markdown",
   "metadata": {},
   "source": [
    "In this case, I have used the command \"wc\" that tells you the numer of words and lines in a file, but because I only wanted to know the number of lines I have added \"-l\"."
   ]
  },
  {
   "cell_type": "code",
   "execution_count": 25,
   "metadata": {},
   "outputs": [
    {
     "name": "stdout",
     "output_type": "stream",
     "text": [
      "Data_Only.csv  Exam_1_Answers.ipynb  Locus_Germplasm_Phenotype_20130122.txt\n",
      "7215 Data_Only.csv\n"
     ]
    }
   ],
   "source": [
    "# Problem 5 Create a command that writes ONLY the data lines (i.e. excludes the header!) to a new file called \"Data_Only.csv\"\n",
    "    # Prove that your output file has the expected number of line\n",
    "touch Data_Only.csv\n",
    "ls\n",
    "tail -7215 Locus_Germplasm_Phenotype_20130122.txt > Data_Only.csv\n",
    "wc -l Data_Only.csv\n",
    "\n",
    "\n"
   ]
  },
  {
   "cell_type": "markdown",
   "metadata": {},
   "source": [
    "I only want the data, so I have to exclude just the header, that is the first line of the file. Because of that I used the comand \"tail\" minus 7215 lines. I know it is not the most elegant solution and I tried to combine comands \"head\" and \"grep\" but maybe I didn't do it in the right order..."
   ]
  },
  {
   "cell_type": "code",
   "execution_count": null,
   "metadata": {},
   "outputs": [],
   "source": [
    "# Problem 6 Create a command that shows all of the lines that have a phenotype including the word \"root\"\n",
    "grep -E -ina \"\\sroot\\s\" Locus_Germplasm_Phenotype_20130122.txt "
   ]
  },
  {
   "cell_type": "markdown",
   "metadata": {},
   "source": [
    "If I want to look for the word \"root\" in the phenotype I should use the command \"grep\". Also, if I want to know the number of the lines in wich that word appears I should use \"-n\". Finally, \"-i\" means that \"grep\" is not case-sensitive and \"-a\" handles binary files like text if they are present. I was looking for the word \"root\" just in singular, but if I wanted to look for the plural form also I should write: grep -E -in \"\\sroots?\\s\". The regular expression \"\\s\" is useful for avoiding looking for root being part of a bigger word."
   ]
  },
  {
   "cell_type": "code",
   "execution_count": null,
   "metadata": {},
   "outputs": [],
   "source": [
    "# Problem 7  Create a command that writes the AGI Locus Code for every line that has a phenotype including the word \"root\" to a file called: Root-associated-Loci.txt\n",
    "touch Root-associated-Loci.txt\n",
    "ls\n",
    "grep -E -ina \"\\sroot\\s\" Locus_Germplasm_Phenotype_20130122.txt | grep -E -ioa \"at[1-5]g[0-9]{5}\\s\" > Root-associated-Loci.txt\n",
    "cat Root-associated-Loci.txt "
   ]
  },
  {
   "cell_type": "markdown",
   "metadata": {},
   "source": [
    "In this problem I have to use the pipe to do a search inside a search. It means that, first, I have to look for the lines in wich \"root\" appears (first \"grep\" command, the solution to problem 6) and, second, I have to look for the AGI Locus Code of these lines by using a pipe and the \"grep\" command again, in this case with \"-o\" extension, because I only want to write in my new file the AGI Locus Code. I have created the new file using the comand \"touch\" and I introduced the data using \">\". Finally, I used \"Regular expressions\" to look for the AGI Locus Code, that has a predictable structure."
   ]
  },
  {
   "cell_type": "code",
   "execution_count": null,
   "metadata": {},
   "outputs": [],
   "source": [
    "# Problem 8 Create a command that writes the PubMed ID for every line that has a phenotype including the word \"root\" to a file called: Root-associated-Publications.txt\n",
    "touch Root-associated-Publications.txt\n",
    "ls\n",
    "grep -E -in \"\\sroot\\s\" Locus_Germplasm_Phenotype_20130122.txt | grep -E -io \"\\s[0-9]+$\" > Root-associated-Publications.txt\n",
    "cat Root-associated-Publications.txt "
   ]
  },
  {
   "cell_type": "markdown",
   "metadata": {},
   "source": [
    "This exercise is very similar to problem 7, but instead of looking for the AGI Locus Codes, I am looking for the pubMed ID, so this time the second \"grep\" command should look for a sequence of digits that is impredictable, but it always appears at the end of a line and because of that I use again the regular expressions and in particular:  \"$\" symbol, meaning that my digits  are at the end of the line; and \"+\" symbol, meaning that the  digits appear one or more times. Also I have written \"\\s\" at the beggining because the pubMed ID starts always after a tab."
   ]
  },
  {
   "cell_type": "code",
   "execution_count": 30,
   "metadata": {
    "scrolled": true
   },
   "outputs": [
    {
     "name": "stdout",
     "output_type": "stream",
     "text": [
      "204\n",
      "166\n",
      "117\n",
      "60\n",
      "223\n"
     ]
    }
   ],
   "source": [
    "# Problem 9 Control experiment: You would hypothesize that genes associated with roots should be found on all chromosomes. \n",
    "# Find a way (one or more commands) to test this hypothesis. In this dataset, is the hypothesis true? \n",
    "grep -E -ina \"\\sroots?\\s\" Locus_Germplasm_Phenotype_20130122.txt | grep -E -ioa \"at1g[0-9]{5}\\s\" | wc -l\n",
    "grep -E -ina \"\\sroots?\\s\" Locus_Germplasm_Phenotype_20130122.txt | grep -E -ioa \"at2g[0-9]{5}\\s\" | wc -l\n",
    "grep -E -ina \"\\sroots?\\s\" Locus_Germplasm_Phenotype_20130122.txt | grep -E -ioa \"at3g[0-9]{5}\\s\" | wc -l\n",
    "grep -E -ina \"\\sroots?\\s\" Locus_Germplasm_Phenotype_20130122.txt | grep -E -ioa \"at4g[0-9]{5}\\s\" | wc -l\n",
    "grep -E -ina \"\\sroots?\\s\" Locus_Germplasm_Phenotype_20130122.txt | grep -E -ioa \"at5g[0-9]{5}\\s\" | wc -l"
   ]
  },
  {
   "cell_type": "markdown",
   "metadata": {},
   "source": [
    "As it is explained in the Exam Week 1 file, the third character of the AGI Locus Code is the chromosome number and it has 5 chromosomes. Root related genes appear when I search for the word \"root(s)\" and I should find a way to prove that these genes are found in the 5 chromosomes. For that, I have used the same command of problem 7, but 5 times and in each one I have replaced the regular expression [1-5] by the exact chromosome number and finally I have added the comad \"wc -l\" to see how many genes related to roots where associated with chromosomes 1, 2, 3, 4 and 5. Because all the chromosomes have root associated genes, the hypothesis is true."
   ]
  },
  {
   "cell_type": "code",
   "execution_count": null,
   "metadata": {},
   "outputs": [],
   "source": [
    "# Problem 10 I CAN SKIP IT"
   ]
  }
 ],
 "metadata": {
  "kernelspec": {
   "display_name": "Bash",
   "language": "bash",
   "name": "bash"
  },
  "language_info": {
   "codemirror_mode": "shell",
   "file_extension": ".sh",
   "mimetype": "text/x-sh",
   "name": "bash"
  }
 },
 "nbformat": 4,
 "nbformat_minor": 2
}
